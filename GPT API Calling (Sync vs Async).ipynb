{
 "cells": [
  {
   "cell_type": "code",
   "execution_count": 37,
   "id": "e48e57e9",
   "metadata": {},
   "outputs": [],
   "source": [
    "import asyncio\n",
    "import openai\n",
    "import nest_asyncio\n",
    "nest_asyncio.apply()\n",
    "\n",
    "openai.api_key = \"<api-key>\"\n",
    "gpt4 = \"<gpt-4/gpt-3.5-instance>\"\n",
    "\n",
    "async def gpt_call():\n",
    "    response = await openai.ChatCompletion.acreate(\n",
    "        engine=gpt4,  # Replace with your engine name\n",
    "        messages=[\n",
    "            {\"role\": \"system\", \"content\": \"You are a helpful assistant.\"},\n",
    "            {\"role\": \"user\", \"content\": \"Does Azure OpenAI support customer managed keys?\"},\n",
    "            {\"role\": \"assistant\", \"content\": \"Yes, customer managed keys are supported by Azure OpenAI.\"},\n",
    "            {\"role\": \"user\", \"content\": \"Do other Azure AI services support this too?\"}\n",
    "        ]\n",
    "    )\n",
    "    return response['choices'][0]['message']['content']"
   ]
  },
  {
   "cell_type": "code",
   "execution_count": 48,
   "id": "b9193fac",
   "metadata": {},
   "outputs": [
    {
     "name": "stdout",
     "output_type": "stream",
     "text": [
      "Wall time: 3min 57s\n"
     ]
    }
   ],
   "source": [
    "%%time\n",
    "async def main1():\n",
    "    for _ in range(20):\n",
    "        await gpt_call()\n",
    "\n",
    "if __name__ == '__main__':\n",
    "    asyncio.run(main1())"
   ]
  },
  {
   "cell_type": "code",
   "execution_count": 50,
   "id": "3024328b",
   "metadata": {},
   "outputs": [
    {
     "name": "stdout",
     "output_type": "stream",
     "text": [
      "Wall time: 17.4 s\n"
     ]
    }
   ],
   "source": [
    "%%time\n",
    "async def main2():\n",
    "    await asyncio.gather(*[gpt_call() for _ in range(20)])\n",
    "\n",
    "if __name__ == '__main__':\n",
    "    asyncio.run(main2())"
   ]
  },
  {
   "cell_type": "code",
   "execution_count": 22,
   "id": "56de8d8b",
   "metadata": {},
   "outputs": [],
   "source": []
  },
  {
   "cell_type": "code",
   "execution_count": null,
   "id": "83b4aeef",
   "metadata": {},
   "outputs": [],
   "source": []
  }
 ],
 "metadata": {
  "kernelspec": {
   "display_name": "Python 3 (ipykernel)",
   "language": "python",
   "name": "python3"
  },
  "language_info": {
   "codemirror_mode": {
    "name": "ipython",
    "version": 3
   },
   "file_extension": ".py",
   "mimetype": "text/x-python",
   "name": "python",
   "nbconvert_exporter": "python",
   "pygments_lexer": "ipython3",
   "version": "3.9.7"
  }
 },
 "nbformat": 4,
 "nbformat_minor": 5
}
